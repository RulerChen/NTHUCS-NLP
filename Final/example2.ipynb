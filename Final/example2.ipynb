{
 "cells": [
  {
   "cell_type": "markdown",
   "id": "230fba5a",
   "metadata": {
    "papermill": {
     "duration": 0.007543,
     "end_time": "2024-09-15T04:16:14.043261",
     "exception": false,
     "start_time": "2024-09-15T04:16:14.035718",
     "status": "completed"
    },
    "tags": []
   },
   "source": [
    "# Import"
   ]
  },
  {
   "cell_type": "code",
   "execution_count": 1,
   "id": "b2712e01",
   "metadata": {
    "_cell_guid": "b1076dfc-b9ad-4769-8c92-a6c4dae69d19",
    "_uuid": "8f2839f25d086af736a60e9eeb907d3b93b6e0e5",
    "execution": {
     "iopub.execute_input": "2024-09-15T04:16:14.057532Z",
     "iopub.status.busy": "2024-09-15T04:16:14.057228Z",
     "iopub.status.idle": "2024-09-15T04:16:15.874014Z",
     "shell.execute_reply": "2024-09-15T04:16:15.873050Z"
    },
    "papermill": {
     "duration": 1.826577,
     "end_time": "2024-09-15T04:16:15.876463",
     "exception": false,
     "start_time": "2024-09-15T04:16:14.049886",
     "status": "completed"
    },
    "tags": []
   },
   "outputs": [],
   "source": [
    "import pandas as pd\n",
    "import numpy as np\n",
    "\n",
    "from sklearn.metrics.pairwise import cosine_similarity"
   ]
  },
  {
   "cell_type": "markdown",
   "id": "ab74808a",
   "metadata": {
    "papermill": {
     "duration": 0.006369,
     "end_time": "2024-09-15T04:16:15.889666",
     "exception": false,
     "start_time": "2024-09-15T04:16:15.883297",
     "status": "completed"
    },
    "tags": []
   },
   "source": [
    "# Data Load"
   ]
  },
  {
   "cell_type": "code",
   "execution_count": 2,
   "id": "bd539174",
   "metadata": {
    "execution": {
     "iopub.execute_input": "2024-09-15T04:16:15.903951Z",
     "iopub.status.busy": "2024-09-15T04:16:15.903520Z",
     "iopub.status.idle": "2024-09-15T04:16:15.962440Z",
     "shell.execute_reply": "2024-09-15T04:16:15.961543Z"
    },
    "papermill": {
     "duration": 0.068284,
     "end_time": "2024-09-15T04:16:15.964459",
     "exception": false,
     "start_time": "2024-09-15T04:16:15.896175",
     "status": "completed"
    },
    "tags": []
   },
   "outputs": [],
   "source": [
    "train                 = pd.read_csv(\"./data/train.csv\")\n",
    "test                  = pd.read_csv(\"./data/test.csv\")\n",
    "\n",
    "misconception_mapping = pd.read_csv(\"./data/misconception_mapping.csv\")\n",
    "sample_submission     = pd.read_csv(\"./data/sample_submission.csv\")"
   ]
  },
  {
   "cell_type": "markdown",
   "id": "8141c1cf",
   "metadata": {
    "papermill": {
     "duration": 0.006416,
     "end_time": "2024-09-15T04:16:15.977553",
     "exception": false,
     "start_time": "2024-09-15T04:16:15.971137",
     "status": "completed"
    },
    "tags": []
   },
   "source": [
    "# Preprocess"
   ]
  },
  {
   "cell_type": "code",
   "execution_count": 3,
   "id": "f82e465f",
   "metadata": {
    "execution": {
     "iopub.execute_input": "2024-09-15T04:16:15.991527Z",
     "iopub.status.busy": "2024-09-15T04:16:15.991217Z",
     "iopub.status.idle": "2024-09-15T04:16:16.000557Z",
     "shell.execute_reply": "2024-09-15T04:16:15.999723Z"
    },
    "papermill": {
     "duration": 0.018489,
     "end_time": "2024-09-15T04:16:16.002445",
     "exception": false,
     "start_time": "2024-09-15T04:16:15.983956",
     "status": "completed"
    },
    "tags": []
   },
   "outputs": [],
   "source": [
    "def make_all_question_text(df: pd.DataFrame) -> pd.DataFrame:\n",
    "    df[\"all_question_text\"] = df[\"ConstructName\"] +\" \" +df[\"QuestionText\"]\n",
    "    return df\n",
    "\n",
    "test = make_all_question_text(test)"
   ]
  },
  {
   "cell_type": "code",
   "execution_count": 4,
   "id": "1bcd64ee",
   "metadata": {
    "execution": {
     "iopub.execute_input": "2024-09-15T04:16:16.016426Z",
     "iopub.status.busy": "2024-09-15T04:16:16.016144Z",
     "iopub.status.idle": "2024-09-15T04:16:16.021738Z",
     "shell.execute_reply": "2024-09-15T04:16:16.020920Z"
    },
    "papermill": {
     "duration": 0.014891,
     "end_time": "2024-09-15T04:16:16.023849",
     "exception": false,
     "start_time": "2024-09-15T04:16:16.008958",
     "status": "completed"
    },
    "tags": []
   },
   "outputs": [
    {
     "name": "stdout",
     "output_type": "stream",
     "text": [
      "(3, 12)\n",
      "Index(['QuestionId', 'ConstructId', 'ConstructName', 'SubjectId',\n",
      "       'SubjectName', 'CorrectAnswer', 'QuestionText', 'AnswerAText',\n",
      "       'AnswerBText', 'AnswerCText', 'AnswerDText', 'all_question_text'],\n",
      "      dtype='object')\n"
     ]
    }
   ],
   "source": [
    "print(test.shape)\n",
    "print(test.columns)"
   ]
  },
  {
   "cell_type": "code",
   "execution_count": 5,
   "id": "cd982a97",
   "metadata": {
    "execution": {
     "iopub.execute_input": "2024-09-15T04:16:16.038049Z",
     "iopub.status.busy": "2024-09-15T04:16:16.037743Z",
     "iopub.status.idle": "2024-09-15T04:16:16.062956Z",
     "shell.execute_reply": "2024-09-15T04:16:16.062147Z"
    },
    "papermill": {
     "duration": 0.03459,
     "end_time": "2024-09-15T04:16:16.064950",
     "exception": false,
     "start_time": "2024-09-15T04:16:16.030360",
     "status": "completed"
    },
    "tags": []
   },
   "outputs": [
    {
     "data": {
      "text/html": [
       "<div>\n",
       "<style scoped>\n",
       "    .dataframe tbody tr th:only-of-type {\n",
       "        vertical-align: middle;\n",
       "    }\n",
       "\n",
       "    .dataframe tbody tr th {\n",
       "        vertical-align: top;\n",
       "    }\n",
       "\n",
       "    .dataframe thead th {\n",
       "        text-align: right;\n",
       "    }\n",
       "</style>\n",
       "<table border=\"1\" class=\"dataframe\">\n",
       "  <thead>\n",
       "    <tr style=\"text-align: right;\">\n",
       "      <th></th>\n",
       "      <th>QuestionId</th>\n",
       "      <th>all_question_text</th>\n",
       "      <th>CorrectAnswer</th>\n",
       "      <th>Answer</th>\n",
       "      <th>value</th>\n",
       "    </tr>\n",
       "  </thead>\n",
       "  <tbody>\n",
       "    <tr>\n",
       "      <th>0</th>\n",
       "      <td>1869</td>\n",
       "      <td>Use the order of operations to carry out calcu...</td>\n",
       "      <td>A</td>\n",
       "      <td>AnswerAText</td>\n",
       "      <td>\\( 3 \\times(2+4)-5 \\)</td>\n",
       "    </tr>\n",
       "    <tr>\n",
       "      <th>1</th>\n",
       "      <td>1870</td>\n",
       "      <td>Simplify an algebraic fraction by factorising ...</td>\n",
       "      <td>D</td>\n",
       "      <td>AnswerAText</td>\n",
       "      <td>\\( m+1 \\)</td>\n",
       "    </tr>\n",
       "    <tr>\n",
       "      <th>2</th>\n",
       "      <td>1871</td>\n",
       "      <td>Calculate the range from a list of data Tom an...</td>\n",
       "      <td>B</td>\n",
       "      <td>AnswerAText</td>\n",
       "      <td>Only\\nTom</td>\n",
       "    </tr>\n",
       "    <tr>\n",
       "      <th>3</th>\n",
       "      <td>1869</td>\n",
       "      <td>Use the order of operations to carry out calcu...</td>\n",
       "      <td>A</td>\n",
       "      <td>AnswerBText</td>\n",
       "      <td>\\( 3 \\times 2+(4-5) \\)</td>\n",
       "    </tr>\n",
       "    <tr>\n",
       "      <th>4</th>\n",
       "      <td>1870</td>\n",
       "      <td>Simplify an algebraic fraction by factorising ...</td>\n",
       "      <td>D</td>\n",
       "      <td>AnswerBText</td>\n",
       "      <td>\\( m+2 \\)</td>\n",
       "    </tr>\n",
       "    <tr>\n",
       "      <th>5</th>\n",
       "      <td>1871</td>\n",
       "      <td>Calculate the range from a list of data Tom an...</td>\n",
       "      <td>B</td>\n",
       "      <td>AnswerBText</td>\n",
       "      <td>Only\\nKatie</td>\n",
       "    </tr>\n",
       "    <tr>\n",
       "      <th>6</th>\n",
       "      <td>1869</td>\n",
       "      <td>Use the order of operations to carry out calcu...</td>\n",
       "      <td>A</td>\n",
       "      <td>AnswerCText</td>\n",
       "      <td>\\( 3 \\times(2+4-5) \\)</td>\n",
       "    </tr>\n",
       "    <tr>\n",
       "      <th>7</th>\n",
       "      <td>1870</td>\n",
       "      <td>Simplify an algebraic fraction by factorising ...</td>\n",
       "      <td>D</td>\n",
       "      <td>AnswerCText</td>\n",
       "      <td>\\( m-1 \\)</td>\n",
       "    </tr>\n",
       "    <tr>\n",
       "      <th>8</th>\n",
       "      <td>1871</td>\n",
       "      <td>Calculate the range from a list of data Tom an...</td>\n",
       "      <td>B</td>\n",
       "      <td>AnswerCText</td>\n",
       "      <td>Both Tom and Katie</td>\n",
       "    </tr>\n",
       "    <tr>\n",
       "      <th>9</th>\n",
       "      <td>1869</td>\n",
       "      <td>Use the order of operations to carry out calcu...</td>\n",
       "      <td>A</td>\n",
       "      <td>AnswerDText</td>\n",
       "      <td>Does not need brackets</td>\n",
       "    </tr>\n",
       "    <tr>\n",
       "      <th>10</th>\n",
       "      <td>1870</td>\n",
       "      <td>Simplify an algebraic fraction by factorising ...</td>\n",
       "      <td>D</td>\n",
       "      <td>AnswerDText</td>\n",
       "      <td>Does not simplify</td>\n",
       "    </tr>\n",
       "    <tr>\n",
       "      <th>11</th>\n",
       "      <td>1871</td>\n",
       "      <td>Calculate the range from a list of data Tom an...</td>\n",
       "      <td>B</td>\n",
       "      <td>AnswerDText</td>\n",
       "      <td>Neither is correct</td>\n",
       "    </tr>\n",
       "  </tbody>\n",
       "</table>\n",
       "</div>"
      ],
      "text/plain": [
       "    QuestionId                                  all_question_text  \\\n",
       "0         1869  Use the order of operations to carry out calcu...   \n",
       "1         1870  Simplify an algebraic fraction by factorising ...   \n",
       "2         1871  Calculate the range from a list of data Tom an...   \n",
       "3         1869  Use the order of operations to carry out calcu...   \n",
       "4         1870  Simplify an algebraic fraction by factorising ...   \n",
       "5         1871  Calculate the range from a list of data Tom an...   \n",
       "6         1869  Use the order of operations to carry out calcu...   \n",
       "7         1870  Simplify an algebraic fraction by factorising ...   \n",
       "8         1871  Calculate the range from a list of data Tom an...   \n",
       "9         1869  Use the order of operations to carry out calcu...   \n",
       "10        1870  Simplify an algebraic fraction by factorising ...   \n",
       "11        1871  Calculate the range from a list of data Tom an...   \n",
       "\n",
       "   CorrectAnswer       Answer                   value  \n",
       "0              A  AnswerAText   \\( 3 \\times(2+4)-5 \\)  \n",
       "1              D  AnswerAText               \\( m+1 \\)  \n",
       "2              B  AnswerAText               Only\\nTom  \n",
       "3              A  AnswerBText  \\( 3 \\times 2+(4-5) \\)  \n",
       "4              D  AnswerBText               \\( m+2 \\)  \n",
       "5              B  AnswerBText             Only\\nKatie  \n",
       "6              A  AnswerCText   \\( 3 \\times(2+4-5) \\)  \n",
       "7              D  AnswerCText               \\( m-1 \\)  \n",
       "8              B  AnswerCText      Both Tom and Katie  \n",
       "9              A  AnswerDText  Does not need brackets  \n",
       "10             D  AnswerDText       Does not simplify  \n",
       "11             B  AnswerDText      Neither is correct  "
      ]
     },
     "execution_count": 5,
     "metadata": {},
     "output_type": "execute_result"
    }
   ],
   "source": [
    "def wide_to_long(df: pd.DataFrame) -> pd.DataFrame:\n",
    "    df = pd.melt(\n",
    "        df[\n",
    "            [\n",
    "                \"QuestionId\",\n",
    "                \"all_question_text\",\n",
    "                \"CorrectAnswer\",\n",
    "                \"AnswerAText\",\n",
    "                \"AnswerBText\",\n",
    "                \"AnswerCText\",\n",
    "                \"AnswerDText\"\n",
    "            ]\n",
    "        ],\n",
    "        id_vars    = [\"QuestionId\", \"all_question_text\", \"CorrectAnswer\"],\n",
    "        var_name   = 'Answer',\n",
    "        value_name = 'value'\n",
    "    )\n",
    "\n",
    "    return df\n",
    "\n",
    "test_long = wide_to_long(test)\n",
    "test_long"
   ]
  },
  {
   "cell_type": "code",
   "execution_count": 6,
   "id": "f59db0e3",
   "metadata": {
    "execution": {
     "iopub.execute_input": "2024-09-15T04:16:16.080336Z",
     "iopub.status.busy": "2024-09-15T04:16:16.079792Z",
     "iopub.status.idle": "2024-09-15T04:16:16.083933Z",
     "shell.execute_reply": "2024-09-15T04:16:16.083136Z"
    },
    "papermill": {
     "duration": 0.014498,
     "end_time": "2024-09-15T04:16:16.086302",
     "exception": false,
     "start_time": "2024-09-15T04:16:16.071804",
     "status": "completed"
    },
    "tags": []
   },
   "outputs": [
    {
     "name": "stdout",
     "output_type": "stream",
     "text": [
      "(12, 5)\n",
      "Index(['QuestionId', 'all_question_text', 'CorrectAnswer', 'Answer', 'value'], dtype='object')\n"
     ]
    }
   ],
   "source": [
    "print(test_long.shape)\n",
    "print(test_long.columns)"
   ]
  },
  {
   "cell_type": "code",
   "execution_count": 7,
   "id": "dbd60c3f",
   "metadata": {
    "execution": {
     "iopub.execute_input": "2024-09-15T04:16:16.101744Z",
     "iopub.status.busy": "2024-09-15T04:16:16.101064Z",
     "iopub.status.idle": "2024-09-15T04:16:16.115089Z",
     "shell.execute_reply": "2024-09-15T04:16:16.114267Z"
    },
    "papermill": {
     "duration": 0.023683,
     "end_time": "2024-09-15T04:16:16.116980",
     "exception": false,
     "start_time": "2024-09-15T04:16:16.093297",
     "status": "completed"
    },
    "tags": []
   },
   "outputs": [
    {
     "data": {
      "text/html": [
       "<div>\n",
       "<style scoped>\n",
       "    .dataframe tbody tr th:only-of-type {\n",
       "        vertical-align: middle;\n",
       "    }\n",
       "\n",
       "    .dataframe tbody tr th {\n",
       "        vertical-align: top;\n",
       "    }\n",
       "\n",
       "    .dataframe thead th {\n",
       "        text-align: right;\n",
       "    }\n",
       "</style>\n",
       "<table border=\"1\" class=\"dataframe\">\n",
       "  <thead>\n",
       "    <tr style=\"text-align: right;\">\n",
       "      <th></th>\n",
       "      <th>QuestionId</th>\n",
       "      <th>all_question_text</th>\n",
       "      <th>CorrectAnswer</th>\n",
       "      <th>Answer</th>\n",
       "      <th>value</th>\n",
       "      <th>all_text</th>\n",
       "    </tr>\n",
       "  </thead>\n",
       "  <tbody>\n",
       "    <tr>\n",
       "      <th>0</th>\n",
       "      <td>1869</td>\n",
       "      <td>Use the order of operations to carry out calcu...</td>\n",
       "      <td>A</td>\n",
       "      <td>AnswerAText</td>\n",
       "      <td>\\( 3 \\times(2+4)-5 \\)</td>\n",
       "      <td>Use the order of operations to carry out calcu...</td>\n",
       "    </tr>\n",
       "    <tr>\n",
       "      <th>1</th>\n",
       "      <td>1870</td>\n",
       "      <td>Simplify an algebraic fraction by factorising ...</td>\n",
       "      <td>D</td>\n",
       "      <td>AnswerAText</td>\n",
       "      <td>\\( m+1 \\)</td>\n",
       "      <td>Simplify an algebraic fraction by factorising ...</td>\n",
       "    </tr>\n",
       "    <tr>\n",
       "      <th>2</th>\n",
       "      <td>1871</td>\n",
       "      <td>Calculate the range from a list of data Tom an...</td>\n",
       "      <td>B</td>\n",
       "      <td>AnswerAText</td>\n",
       "      <td>Only\\nTom</td>\n",
       "      <td>Calculate the range from a list of data Tom an...</td>\n",
       "    </tr>\n",
       "    <tr>\n",
       "      <th>3</th>\n",
       "      <td>1869</td>\n",
       "      <td>Use the order of operations to carry out calcu...</td>\n",
       "      <td>A</td>\n",
       "      <td>AnswerBText</td>\n",
       "      <td>\\( 3 \\times 2+(4-5) \\)</td>\n",
       "      <td>Use the order of operations to carry out calcu...</td>\n",
       "    </tr>\n",
       "    <tr>\n",
       "      <th>4</th>\n",
       "      <td>1870</td>\n",
       "      <td>Simplify an algebraic fraction by factorising ...</td>\n",
       "      <td>D</td>\n",
       "      <td>AnswerBText</td>\n",
       "      <td>\\( m+2 \\)</td>\n",
       "      <td>Simplify an algebraic fraction by factorising ...</td>\n",
       "    </tr>\n",
       "    <tr>\n",
       "      <th>5</th>\n",
       "      <td>1871</td>\n",
       "      <td>Calculate the range from a list of data Tom an...</td>\n",
       "      <td>B</td>\n",
       "      <td>AnswerBText</td>\n",
       "      <td>Only\\nKatie</td>\n",
       "      <td>Calculate the range from a list of data Tom an...</td>\n",
       "    </tr>\n",
       "    <tr>\n",
       "      <th>6</th>\n",
       "      <td>1869</td>\n",
       "      <td>Use the order of operations to carry out calcu...</td>\n",
       "      <td>A</td>\n",
       "      <td>AnswerCText</td>\n",
       "      <td>\\( 3 \\times(2+4-5) \\)</td>\n",
       "      <td>Use the order of operations to carry out calcu...</td>\n",
       "    </tr>\n",
       "    <tr>\n",
       "      <th>7</th>\n",
       "      <td>1870</td>\n",
       "      <td>Simplify an algebraic fraction by factorising ...</td>\n",
       "      <td>D</td>\n",
       "      <td>AnswerCText</td>\n",
       "      <td>\\( m-1 \\)</td>\n",
       "      <td>Simplify an algebraic fraction by factorising ...</td>\n",
       "    </tr>\n",
       "    <tr>\n",
       "      <th>8</th>\n",
       "      <td>1871</td>\n",
       "      <td>Calculate the range from a list of data Tom an...</td>\n",
       "      <td>B</td>\n",
       "      <td>AnswerCText</td>\n",
       "      <td>Both Tom and Katie</td>\n",
       "      <td>Calculate the range from a list of data Tom an...</td>\n",
       "    </tr>\n",
       "    <tr>\n",
       "      <th>9</th>\n",
       "      <td>1869</td>\n",
       "      <td>Use the order of operations to carry out calcu...</td>\n",
       "      <td>A</td>\n",
       "      <td>AnswerDText</td>\n",
       "      <td>Does not need brackets</td>\n",
       "      <td>Use the order of operations to carry out calcu...</td>\n",
       "    </tr>\n",
       "    <tr>\n",
       "      <th>10</th>\n",
       "      <td>1870</td>\n",
       "      <td>Simplify an algebraic fraction by factorising ...</td>\n",
       "      <td>D</td>\n",
       "      <td>AnswerDText</td>\n",
       "      <td>Does not simplify</td>\n",
       "      <td>Simplify an algebraic fraction by factorising ...</td>\n",
       "    </tr>\n",
       "    <tr>\n",
       "      <th>11</th>\n",
       "      <td>1871</td>\n",
       "      <td>Calculate the range from a list of data Tom an...</td>\n",
       "      <td>B</td>\n",
       "      <td>AnswerDText</td>\n",
       "      <td>Neither is correct</td>\n",
       "      <td>Calculate the range from a list of data Tom an...</td>\n",
       "    </tr>\n",
       "  </tbody>\n",
       "</table>\n",
       "</div>"
      ],
      "text/plain": [
       "    QuestionId                                  all_question_text  \\\n",
       "0         1869  Use the order of operations to carry out calcu...   \n",
       "1         1870  Simplify an algebraic fraction by factorising ...   \n",
       "2         1871  Calculate the range from a list of data Tom an...   \n",
       "3         1869  Use the order of operations to carry out calcu...   \n",
       "4         1870  Simplify an algebraic fraction by factorising ...   \n",
       "5         1871  Calculate the range from a list of data Tom an...   \n",
       "6         1869  Use the order of operations to carry out calcu...   \n",
       "7         1870  Simplify an algebraic fraction by factorising ...   \n",
       "8         1871  Calculate the range from a list of data Tom an...   \n",
       "9         1869  Use the order of operations to carry out calcu...   \n",
       "10        1870  Simplify an algebraic fraction by factorising ...   \n",
       "11        1871  Calculate the range from a list of data Tom an...   \n",
       "\n",
       "   CorrectAnswer       Answer                   value  \\\n",
       "0              A  AnswerAText   \\( 3 \\times(2+4)-5 \\)   \n",
       "1              D  AnswerAText               \\( m+1 \\)   \n",
       "2              B  AnswerAText               Only\\nTom   \n",
       "3              A  AnswerBText  \\( 3 \\times 2+(4-5) \\)   \n",
       "4              D  AnswerBText               \\( m+2 \\)   \n",
       "5              B  AnswerBText             Only\\nKatie   \n",
       "6              A  AnswerCText   \\( 3 \\times(2+4-5) \\)   \n",
       "7              D  AnswerCText               \\( m-1 \\)   \n",
       "8              B  AnswerCText      Both Tom and Katie   \n",
       "9              A  AnswerDText  Does not need brackets   \n",
       "10             D  AnswerDText       Does not simplify   \n",
       "11             B  AnswerDText      Neither is correct   \n",
       "\n",
       "                                             all_text  \n",
       "0   Use the order of operations to carry out calcu...  \n",
       "1   Simplify an algebraic fraction by factorising ...  \n",
       "2   Calculate the range from a list of data Tom an...  \n",
       "3   Use the order of operations to carry out calcu...  \n",
       "4   Simplify an algebraic fraction by factorising ...  \n",
       "5   Calculate the range from a list of data Tom an...  \n",
       "6   Use the order of operations to carry out calcu...  \n",
       "7   Simplify an algebraic fraction by factorising ...  \n",
       "8   Calculate the range from a list of data Tom an...  \n",
       "9   Use the order of operations to carry out calcu...  \n",
       "10  Simplify an algebraic fraction by factorising ...  \n",
       "11  Calculate the range from a list of data Tom an...  "
      ]
     },
     "execution_count": 7,
     "metadata": {},
     "output_type": "execute_result"
    }
   ],
   "source": [
    "def make_all_text(df: pd.DataFrame) -> pd.DataFrame:\n",
    "    df[\"all_text\"] = df[\"all_question_text\"] +\" \" +df[\"value\"]\n",
    "    return df\n",
    "\n",
    "test_long = make_all_text(test_long)\n",
    "test_long"
   ]
  },
  {
   "cell_type": "code",
   "execution_count": 8,
   "id": "6afe2c17",
   "metadata": {
    "execution": {
     "iopub.execute_input": "2024-09-15T04:16:16.134389Z",
     "iopub.status.busy": "2024-09-15T04:16:16.133728Z",
     "iopub.status.idle": "2024-09-15T04:16:16.150756Z",
     "shell.execute_reply": "2024-09-15T04:16:16.149902Z"
    },
    "papermill": {
     "duration": 0.027549,
     "end_time": "2024-09-15T04:16:16.152743",
     "exception": false,
     "start_time": "2024-09-15T04:16:16.125194",
     "status": "completed"
    },
    "tags": []
   },
   "outputs": [
    {
     "data": {
      "text/html": [
       "<div>\n",
       "<style scoped>\n",
       "    .dataframe tbody tr th:only-of-type {\n",
       "        vertical-align: middle;\n",
       "    }\n",
       "\n",
       "    .dataframe tbody tr th {\n",
       "        vertical-align: top;\n",
       "    }\n",
       "\n",
       "    .dataframe thead th {\n",
       "        text-align: right;\n",
       "    }\n",
       "</style>\n",
       "<table border=\"1\" class=\"dataframe\">\n",
       "  <thead>\n",
       "    <tr style=\"text-align: right;\">\n",
       "      <th></th>\n",
       "      <th>QuestionId</th>\n",
       "      <th>all_question_text</th>\n",
       "      <th>CorrectAnswer</th>\n",
       "      <th>Answer</th>\n",
       "      <th>value</th>\n",
       "      <th>all_text</th>\n",
       "    </tr>\n",
       "  </thead>\n",
       "  <tbody>\n",
       "    <tr>\n",
       "      <th>0</th>\n",
       "      <td>1869</td>\n",
       "      <td>Use the order of operations to carry out calcu...</td>\n",
       "      <td>A</td>\n",
       "      <td>AnswerAText</td>\n",
       "      <td>\\( 3 \\times(2+4)-5 \\)</td>\n",
       "      <td>Use the order of operations to carry out calcu...</td>\n",
       "    </tr>\n",
       "    <tr>\n",
       "      <th>1</th>\n",
       "      <td>1869</td>\n",
       "      <td>Use the order of operations to carry out calcu...</td>\n",
       "      <td>A</td>\n",
       "      <td>AnswerBText</td>\n",
       "      <td>\\( 3 \\times 2+(4-5) \\)</td>\n",
       "      <td>Use the order of operations to carry out calcu...</td>\n",
       "    </tr>\n",
       "    <tr>\n",
       "      <th>2</th>\n",
       "      <td>1869</td>\n",
       "      <td>Use the order of operations to carry out calcu...</td>\n",
       "      <td>A</td>\n",
       "      <td>AnswerCText</td>\n",
       "      <td>\\( 3 \\times(2+4-5) \\)</td>\n",
       "      <td>Use the order of operations to carry out calcu...</td>\n",
       "    </tr>\n",
       "    <tr>\n",
       "      <th>3</th>\n",
       "      <td>1869</td>\n",
       "      <td>Use the order of operations to carry out calcu...</td>\n",
       "      <td>A</td>\n",
       "      <td>AnswerDText</td>\n",
       "      <td>Does not need brackets</td>\n",
       "      <td>Use the order of operations to carry out calcu...</td>\n",
       "    </tr>\n",
       "    <tr>\n",
       "      <th>4</th>\n",
       "      <td>1870</td>\n",
       "      <td>Simplify an algebraic fraction by factorising ...</td>\n",
       "      <td>D</td>\n",
       "      <td>AnswerAText</td>\n",
       "      <td>\\( m+1 \\)</td>\n",
       "      <td>Simplify an algebraic fraction by factorising ...</td>\n",
       "    </tr>\n",
       "    <tr>\n",
       "      <th>5</th>\n",
       "      <td>1870</td>\n",
       "      <td>Simplify an algebraic fraction by factorising ...</td>\n",
       "      <td>D</td>\n",
       "      <td>AnswerBText</td>\n",
       "      <td>\\( m+2 \\)</td>\n",
       "      <td>Simplify an algebraic fraction by factorising ...</td>\n",
       "    </tr>\n",
       "    <tr>\n",
       "      <th>6</th>\n",
       "      <td>1870</td>\n",
       "      <td>Simplify an algebraic fraction by factorising ...</td>\n",
       "      <td>D</td>\n",
       "      <td>AnswerCText</td>\n",
       "      <td>\\( m-1 \\)</td>\n",
       "      <td>Simplify an algebraic fraction by factorising ...</td>\n",
       "    </tr>\n",
       "    <tr>\n",
       "      <th>7</th>\n",
       "      <td>1870</td>\n",
       "      <td>Simplify an algebraic fraction by factorising ...</td>\n",
       "      <td>D</td>\n",
       "      <td>AnswerDText</td>\n",
       "      <td>Does not simplify</td>\n",
       "      <td>Simplify an algebraic fraction by factorising ...</td>\n",
       "    </tr>\n",
       "    <tr>\n",
       "      <th>8</th>\n",
       "      <td>1871</td>\n",
       "      <td>Calculate the range from a list of data Tom an...</td>\n",
       "      <td>B</td>\n",
       "      <td>AnswerAText</td>\n",
       "      <td>Only\\nTom</td>\n",
       "      <td>Calculate the range from a list of data Tom an...</td>\n",
       "    </tr>\n",
       "    <tr>\n",
       "      <th>9</th>\n",
       "      <td>1871</td>\n",
       "      <td>Calculate the range from a list of data Tom an...</td>\n",
       "      <td>B</td>\n",
       "      <td>AnswerBText</td>\n",
       "      <td>Only\\nKatie</td>\n",
       "      <td>Calculate the range from a list of data Tom an...</td>\n",
       "    </tr>\n",
       "    <tr>\n",
       "      <th>10</th>\n",
       "      <td>1871</td>\n",
       "      <td>Calculate the range from a list of data Tom an...</td>\n",
       "      <td>B</td>\n",
       "      <td>AnswerCText</td>\n",
       "      <td>Both Tom and Katie</td>\n",
       "      <td>Calculate the range from a list of data Tom an...</td>\n",
       "    </tr>\n",
       "    <tr>\n",
       "      <th>11</th>\n",
       "      <td>1871</td>\n",
       "      <td>Calculate the range from a list of data Tom an...</td>\n",
       "      <td>B</td>\n",
       "      <td>AnswerDText</td>\n",
       "      <td>Neither is correct</td>\n",
       "      <td>Calculate the range from a list of data Tom an...</td>\n",
       "    </tr>\n",
       "  </tbody>\n",
       "</table>\n",
       "</div>"
      ],
      "text/plain": [
       "    QuestionId                                  all_question_text  \\\n",
       "0         1869  Use the order of operations to carry out calcu...   \n",
       "1         1869  Use the order of operations to carry out calcu...   \n",
       "2         1869  Use the order of operations to carry out calcu...   \n",
       "3         1869  Use the order of operations to carry out calcu...   \n",
       "4         1870  Simplify an algebraic fraction by factorising ...   \n",
       "5         1870  Simplify an algebraic fraction by factorising ...   \n",
       "6         1870  Simplify an algebraic fraction by factorising ...   \n",
       "7         1870  Simplify an algebraic fraction by factorising ...   \n",
       "8         1871  Calculate the range from a list of data Tom an...   \n",
       "9         1871  Calculate the range from a list of data Tom an...   \n",
       "10        1871  Calculate the range from a list of data Tom an...   \n",
       "11        1871  Calculate the range from a list of data Tom an...   \n",
       "\n",
       "   CorrectAnswer       Answer                   value  \\\n",
       "0              A  AnswerAText   \\( 3 \\times(2+4)-5 \\)   \n",
       "1              A  AnswerBText  \\( 3 \\times 2+(4-5) \\)   \n",
       "2              A  AnswerCText   \\( 3 \\times(2+4-5) \\)   \n",
       "3              A  AnswerDText  Does not need brackets   \n",
       "4              D  AnswerAText               \\( m+1 \\)   \n",
       "5              D  AnswerBText               \\( m+2 \\)   \n",
       "6              D  AnswerCText               \\( m-1 \\)   \n",
       "7              D  AnswerDText       Does not simplify   \n",
       "8              B  AnswerAText               Only\\nTom   \n",
       "9              B  AnswerBText             Only\\nKatie   \n",
       "10             B  AnswerCText      Both Tom and Katie   \n",
       "11             B  AnswerDText      Neither is correct   \n",
       "\n",
       "                                             all_text  \n",
       "0   Use the order of operations to carry out calcu...  \n",
       "1   Use the order of operations to carry out calcu...  \n",
       "2   Use the order of operations to carry out calcu...  \n",
       "3   Use the order of operations to carry out calcu...  \n",
       "4   Simplify an algebraic fraction by factorising ...  \n",
       "5   Simplify an algebraic fraction by factorising ...  \n",
       "6   Simplify an algebraic fraction by factorising ...  \n",
       "7   Simplify an algebraic fraction by factorising ...  \n",
       "8   Calculate the range from a list of data Tom an...  \n",
       "9   Calculate the range from a list of data Tom an...  \n",
       "10  Calculate the range from a list of data Tom an...  \n",
       "11  Calculate the range from a list of data Tom an...  "
      ]
     },
     "execution_count": 8,
     "metadata": {},
     "output_type": "execute_result"
    }
   ],
   "source": [
    "test_long = test_long.sort_values([\"QuestionId\", \"Answer\"]).reset_index(drop=True)\n",
    "test_long"
   ]
  },
  {
   "cell_type": "code",
   "execution_count": 14,
   "id": "10810040",
   "metadata": {},
   "outputs": [
    {
     "data": {
      "text/html": [
       "<div>\n",
       "<style scoped>\n",
       "    .dataframe tbody tr th:only-of-type {\n",
       "        vertical-align: middle;\n",
       "    }\n",
       "\n",
       "    .dataframe tbody tr th {\n",
       "        vertical-align: top;\n",
       "    }\n",
       "\n",
       "    .dataframe thead th {\n",
       "        text-align: right;\n",
       "    }\n",
       "</style>\n",
       "<table border=\"1\" class=\"dataframe\">\n",
       "  <thead>\n",
       "    <tr style=\"text-align: right;\">\n",
       "      <th></th>\n",
       "      <th>QuestionId</th>\n",
       "      <th>Answer</th>\n",
       "      <th>all_text</th>\n",
       "    </tr>\n",
       "  </thead>\n",
       "  <tbody>\n",
       "    <tr>\n",
       "      <th>0</th>\n",
       "      <td>1869</td>\n",
       "      <td>AnswerAText</td>\n",
       "      <td>Use the order of operations to carry out calculations involving powers \\[\\n3 \\times 2+4-5\\n\\]\\nWhere do the brackets need to go to make the answer...</td>\n",
       "    </tr>\n",
       "    <tr>\n",
       "      <th>1</th>\n",
       "      <td>1869</td>\n",
       "      <td>AnswerBText</td>\n",
       "      <td>Use the order of operations to carry out calculations involving powers \\[\\n3 \\times 2+4-5\\n\\]\\nWhere do the brackets need to go to make the answer...</td>\n",
       "    </tr>\n",
       "    <tr>\n",
       "      <th>2</th>\n",
       "      <td>1869</td>\n",
       "      <td>AnswerCText</td>\n",
       "      <td>Use the order of operations to carry out calculations involving powers \\[\\n3 \\times 2+4-5\\n\\]\\nWhere do the brackets need to go to make the answer...</td>\n",
       "    </tr>\n",
       "    <tr>\n",
       "      <th>3</th>\n",
       "      <td>1869</td>\n",
       "      <td>AnswerDText</td>\n",
       "      <td>Use the order of operations to carry out calculations involving powers \\[\\n3 \\times 2+4-5\\n\\]\\nWhere do the brackets need to go to make the answer...</td>\n",
       "    </tr>\n",
       "    <tr>\n",
       "      <th>4</th>\n",
       "      <td>1870</td>\n",
       "      <td>AnswerAText</td>\n",
       "      <td>Simplify an algebraic fraction by factorising the numerator Simplify the following, if possible: \\( \\frac{m^{2}+2 m-3}{m-3} \\) \\( m+1 \\)</td>\n",
       "    </tr>\n",
       "    <tr>\n",
       "      <th>5</th>\n",
       "      <td>1870</td>\n",
       "      <td>AnswerBText</td>\n",
       "      <td>Simplify an algebraic fraction by factorising the numerator Simplify the following, if possible: \\( \\frac{m^{2}+2 m-3}{m-3} \\) \\( m+2 \\)</td>\n",
       "    </tr>\n",
       "    <tr>\n",
       "      <th>6</th>\n",
       "      <td>1870</td>\n",
       "      <td>AnswerCText</td>\n",
       "      <td>Simplify an algebraic fraction by factorising the numerator Simplify the following, if possible: \\( \\frac{m^{2}+2 m-3}{m-3} \\) \\( m-1 \\)</td>\n",
       "    </tr>\n",
       "    <tr>\n",
       "      <th>7</th>\n",
       "      <td>1870</td>\n",
       "      <td>AnswerDText</td>\n",
       "      <td>Simplify an algebraic fraction by factorising the numerator Simplify the following, if possible: \\( \\frac{m^{2}+2 m-3}{m-3} \\) Does not simplify</td>\n",
       "    </tr>\n",
       "    <tr>\n",
       "      <th>8</th>\n",
       "      <td>1871</td>\n",
       "      <td>AnswerAText</td>\n",
       "      <td>Calculate the range from a list of data Tom and Katie are discussing the \\( 5 \\) plants with these heights:\\n\\( 24 \\mathrm{~cm}, 17 \\mathrm{~cm}, ...</td>\n",
       "    </tr>\n",
       "    <tr>\n",
       "      <th>9</th>\n",
       "      <td>1871</td>\n",
       "      <td>AnswerBText</td>\n",
       "      <td>Calculate the range from a list of data Tom and Katie are discussing the \\( 5 \\) plants with these heights:\\n\\( 24 \\mathrm{~cm}, 17 \\mathrm{~cm}, ...</td>\n",
       "    </tr>\n",
       "    <tr>\n",
       "      <th>10</th>\n",
       "      <td>1871</td>\n",
       "      <td>AnswerCText</td>\n",
       "      <td>Calculate the range from a list of data Tom and Katie are discussing the \\( 5 \\) plants with these heights:\\n\\( 24 \\mathrm{~cm}, 17 \\mathrm{~cm}, ...</td>\n",
       "    </tr>\n",
       "    <tr>\n",
       "      <th>11</th>\n",
       "      <td>1871</td>\n",
       "      <td>AnswerDText</td>\n",
       "      <td>Calculate the range from a list of data Tom and Katie are discussing the \\( 5 \\) plants with these heights:\\n\\( 24 \\mathrm{~cm}, 17 \\mathrm{~cm}, ...</td>\n",
       "    </tr>\n",
       "  </tbody>\n",
       "</table>\n",
       "</div>"
      ],
      "text/plain": [
       "    QuestionId       Answer  \\\n",
       "0         1869  AnswerAText   \n",
       "1         1869  AnswerBText   \n",
       "2         1869  AnswerCText   \n",
       "3         1869  AnswerDText   \n",
       "4         1870  AnswerAText   \n",
       "5         1870  AnswerBText   \n",
       "6         1870  AnswerCText   \n",
       "7         1870  AnswerDText   \n",
       "8         1871  AnswerAText   \n",
       "9         1871  AnswerBText   \n",
       "10        1871  AnswerCText   \n",
       "11        1871  AnswerDText   \n",
       "\n",
       "                                                                                                                                                 all_text  \n",
       "0   Use the order of operations to carry out calculations involving powers \\[\\n3 \\times 2+4-5\\n\\]\\nWhere do the brackets need to go to make the answer...  \n",
       "1   Use the order of operations to carry out calculations involving powers \\[\\n3 \\times 2+4-5\\n\\]\\nWhere do the brackets need to go to make the answer...  \n",
       "2   Use the order of operations to carry out calculations involving powers \\[\\n3 \\times 2+4-5\\n\\]\\nWhere do the brackets need to go to make the answer...  \n",
       "3   Use the order of operations to carry out calculations involving powers \\[\\n3 \\times 2+4-5\\n\\]\\nWhere do the brackets need to go to make the answer...  \n",
       "4                Simplify an algebraic fraction by factorising the numerator Simplify the following, if possible: \\( \\frac{m^{2}+2 m-3}{m-3} \\) \\( m+1 \\)  \n",
       "5                Simplify an algebraic fraction by factorising the numerator Simplify the following, if possible: \\( \\frac{m^{2}+2 m-3}{m-3} \\) \\( m+2 \\)  \n",
       "6                Simplify an algebraic fraction by factorising the numerator Simplify the following, if possible: \\( \\frac{m^{2}+2 m-3}{m-3} \\) \\( m-1 \\)  \n",
       "7        Simplify an algebraic fraction by factorising the numerator Simplify the following, if possible: \\( \\frac{m^{2}+2 m-3}{m-3} \\) Does not simplify  \n",
       "8   Calculate the range from a list of data Tom and Katie are discussing the \\( 5 \\) plants with these heights:\\n\\( 24 \\mathrm{~cm}, 17 \\mathrm{~cm}, ...  \n",
       "9   Calculate the range from a list of data Tom and Katie are discussing the \\( 5 \\) plants with these heights:\\n\\( 24 \\mathrm{~cm}, 17 \\mathrm{~cm}, ...  \n",
       "10  Calculate the range from a list of data Tom and Katie are discussing the \\( 5 \\) plants with these heights:\\n\\( 24 \\mathrm{~cm}, 17 \\mathrm{~cm}, ...  \n",
       "11  Calculate the range from a list of data Tom and Katie are discussing the \\( 5 \\) plants with these heights:\\n\\( 24 \\mathrm{~cm}, 17 \\mathrm{~cm}, ...  "
      ]
     },
     "execution_count": 14,
     "metadata": {},
     "output_type": "execute_result"
    }
   ],
   "source": [
    "pd.options.display.max_colwidth = 150\n",
    "filtered_test_long = test_long[[\"QuestionId\", \"Answer\", \"all_text\"]]\n",
    "filtered_test_long"
   ]
  },
  {
   "cell_type": "code",
   "execution_count": 9,
   "id": "3ad631fd",
   "metadata": {
    "execution": {
     "iopub.execute_input": "2024-09-15T04:16:16.170342Z",
     "iopub.status.busy": "2024-09-15T04:16:16.169765Z",
     "iopub.status.idle": "2024-09-15T04:16:16.173742Z",
     "shell.execute_reply": "2024-09-15T04:16:16.172930Z"
    },
    "papermill": {
     "duration": 0.014175,
     "end_time": "2024-09-15T04:16:16.175614",
     "exception": false,
     "start_time": "2024-09-15T04:16:16.161439",
     "status": "completed"
    },
    "tags": []
   },
   "outputs": [],
   "source": [
    "labels = misconception_mapping['MisconceptionName'].values"
   ]
  },
  {
   "cell_type": "markdown",
   "id": "18459fc5",
   "metadata": {
    "papermill": {
     "duration": 0.007341,
     "end_time": "2024-09-15T04:16:16.190435",
     "exception": false,
     "start_time": "2024-09-15T04:16:16.183094",
     "status": "completed"
    },
    "tags": []
   },
   "source": [
    "## Loading the model and tokenizer for embedding generation"
   ]
  },
  {
   "cell_type": "code",
   "execution_count": null,
   "id": "6b38229e",
   "metadata": {
    "execution": {
     "iopub.execute_input": "2024-09-15T04:16:16.206876Z",
     "iopub.status.busy": "2024-09-15T04:16:16.206398Z",
     "iopub.status.idle": "2024-09-15T04:16:24.079186Z",
     "shell.execute_reply": "2024-09-15T04:16:24.078076Z"
    },
    "papermill": {
     "duration": 7.883452,
     "end_time": "2024-09-15T04:16:24.081503",
     "exception": false,
     "start_time": "2024-09-15T04:16:16.198051",
     "status": "completed"
    },
    "tags": []
   },
   "outputs": [
    {
     "data": {
      "application/vnd.jupyter.widget-view+json": {
       "model_id": "5e392f71d7d54abc9f9cb30ea8d3b73c",
       "version_major": 2,
       "version_minor": 0
      },
      "text/plain": [
       "tokenizer_config.json:   0%|          | 0.00/366 [00:00<?, ?B/s]"
      ]
     },
     "metadata": {},
     "output_type": "display_data"
    },
    {
     "name": "stderr",
     "output_type": "stream",
     "text": [
      "d:\\VScode\\nthu nlp\\Final\\venv\\lib\\site-packages\\huggingface_hub\\file_download.py:139: UserWarning: `huggingface_hub` cache-system uses symlinks by default to efficiently store duplicated files but your machine does not support them in C:\\Users\\RulerChen\\.cache\\huggingface\\hub\\models--BAAI--bge-small-en. Caching files will still work but in a degraded version that might require more space on your disk. This warning can be disabled by setting the `HF_HUB_DISABLE_SYMLINKS_WARNING` environment variable. For more details, see https://huggingface.co/docs/huggingface_hub/how-to-cache#limitations.\n",
      "To support symlinks on Windows, you either need to activate Developer Mode or to run Python as an administrator. In order to activate developer mode, see this article: https://docs.microsoft.com/en-us/windows/apps/get-started/enable-your-device-for-development\n",
      "  warnings.warn(message)\n"
     ]
    },
    {
     "data": {
      "application/vnd.jupyter.widget-view+json": {
       "model_id": "f5135c7f18a54d149645256f47b47cf7",
       "version_major": 2,
       "version_minor": 0
      },
      "text/plain": [
       "vocab.txt:   0%|          | 0.00/232k [00:00<?, ?B/s]"
      ]
     },
     "metadata": {},
     "output_type": "display_data"
    },
    {
     "data": {
      "application/vnd.jupyter.widget-view+json": {
       "model_id": "31f2e482accf4d6a8c5bfd20db13229a",
       "version_major": 2,
       "version_minor": 0
      },
      "text/plain": [
       "tokenizer.json:   0%|          | 0.00/711k [00:00<?, ?B/s]"
      ]
     },
     "metadata": {},
     "output_type": "display_data"
    },
    {
     "data": {
      "application/vnd.jupyter.widget-view+json": {
       "model_id": "f6561ce690174209af8d3da3faee08c4",
       "version_major": 2,
       "version_minor": 0
      },
      "text/plain": [
       "special_tokens_map.json:   0%|          | 0.00/125 [00:00<?, ?B/s]"
      ]
     },
     "metadata": {},
     "output_type": "display_data"
    },
    {
     "data": {
      "application/vnd.jupyter.widget-view+json": {
       "model_id": "313eaecde81e44b4b85d18f6426eecc9",
       "version_major": 2,
       "version_minor": 0
      },
      "text/plain": [
       "config.json:   0%|          | 0.00/684 [00:00<?, ?B/s]"
      ]
     },
     "metadata": {},
     "output_type": "display_data"
    },
    {
     "data": {
      "application/vnd.jupyter.widget-view+json": {
       "model_id": "f100ad7495a94867b385f886842424f0",
       "version_major": 2,
       "version_minor": 0
      },
      "text/plain": [
       "model.safetensors:   0%|          | 0.00/133M [00:00<?, ?B/s]"
      ]
     },
     "metadata": {},
     "output_type": "display_data"
    },
    {
     "name": "stdout",
     "output_type": "stream",
     "text": [
      "finish\n"
     ]
    },
    {
     "ename": "",
     "evalue": "",
     "output_type": "error",
     "traceback": [
      "\u001b[1;31mThe Kernel crashed while executing code in the current cell or a previous cell. \n",
      "\u001b[1;31mPlease review the code in the cell(s) to identify a possible cause of the failure. \n",
      "\u001b[1;31mClick <a href='https://aka.ms/vscodeJupyterKernelCrash'>here</a> for more info. \n",
      "\u001b[1;31mView Jupyter <a href='command:jupyter.viewOutput'>log</a> for further details."
     ]
    }
   ],
   "source": [
    "from transformers import AutoTokenizer, AutoModel\n",
    "import torch\n",
    "\n",
    "\n",
    "device = \"cuda:0\"\n",
    "\n",
    "\n",
    "tokenizer = AutoTokenizer.from_pretrained('BAAI/bge-small-en')\n",
    "model     = AutoModel.from_pretrained('BAAI/bge-small-en')\n",
    "model.eval()\n",
    "model.to(device)\n",
    "print(\"finish\")"
   ]
  },
  {
   "cell_type": "code",
   "execution_count": 11,
   "id": "32a14736",
   "metadata": {
    "execution": {
     "iopub.execute_input": "2024-09-15T04:16:24.116315Z",
     "iopub.status.busy": "2024-09-15T04:16:24.115360Z",
     "iopub.status.idle": "2024-09-15T04:16:29.066700Z",
     "shell.execute_reply": "2024-09-15T04:16:29.065480Z"
    },
    "papermill": {
     "duration": 4.963195,
     "end_time": "2024-09-15T04:16:29.069525",
     "exception": false,
     "start_time": "2024-09-15T04:16:24.106330",
     "status": "completed"
    },
    "tags": []
   },
   "outputs": [
    {
     "name": "stderr",
     "output_type": "stream",
     "text": [
      "100%|██████████| 324/324 [00:04<00:00, 65.68it/s]"
     ]
    },
    {
     "name": "stdout",
     "output_type": "stream",
     "text": [
      "Sentence embeddings: torch.Size([3, 384])\n"
     ]
    },
    {
     "name": "stderr",
     "output_type": "stream",
     "text": [
      "\n"
     ]
    }
   ],
   "source": [
    "from tqdm import tqdm\n",
    "MisconceptionName = list(misconception_mapping['MisconceptionName'].values)\n",
    "per_gpu_batch_size = 8\n",
    "\n",
    "\n",
    "def prepare_inputs(text, tokenizer, device):\n",
    "    tokenizer_outputs = tokenizer.batch_encode_plus(\n",
    "        text,\n",
    "        padding        = True,\n",
    "        return_tensors = 'pt',\n",
    "        max_length     = 1024,\n",
    "        truncation     = True\n",
    "    )\n",
    "    result = {\n",
    "        'input_ids': tokenizer_outputs.input_ids.to(device),\n",
    "        'attention_mask': tokenizer_outputs.attention_mask.to(device),\n",
    "    }\n",
    "    return result\n",
    "\n",
    "\n",
    "all_ctx_vector = []\n",
    "for mini_batch in tqdm(range(0, len(MisconceptionName[:]), per_gpu_batch_size)):\n",
    "    mini_context          = MisconceptionName[mini_batch:mini_batch+ per_gpu_batch_size]\n",
    "    encoded_input         = prepare_inputs(mini_context,tokenizer,device)\n",
    "    sentence_embeddings   = model(**encoded_input)[0][:, 0]\n",
    "    sentence_embeddings   = torch.nn.functional.normalize(sentence_embeddings, p=2, dim=1)\n",
    "    all_ctx_vector.append(sentence_embeddings.detach().cpu().numpy())\n",
    "\n",
    "all_ctx_vector = np.concatenate(all_ctx_vector, axis=0)\n",
    "print(\"Sentence embeddings:\", sentence_embeddings.shape)"
   ]
  },
  {
   "cell_type": "code",
   "execution_count": 12,
   "id": "817ab825",
   "metadata": {
    "execution": {
     "iopub.execute_input": "2024-09-15T04:16:29.097729Z",
     "iopub.status.busy": "2024-09-15T04:16:29.097077Z",
     "iopub.status.idle": "2024-09-15T04:16:29.149961Z",
     "shell.execute_reply": "2024-09-15T04:16:29.149054Z"
    },
    "papermill": {
     "duration": 0.069171,
     "end_time": "2024-09-15T04:16:29.152158",
     "exception": false,
     "start_time": "2024-09-15T04:16:29.082987",
     "status": "completed"
    },
    "tags": []
   },
   "outputs": [
    {
     "name": "stderr",
     "output_type": "stream",
     "text": [
      "100%|██████████| 2/2 [00:00<00:00, 48.99it/s]"
     ]
    },
    {
     "name": "stdout",
     "output_type": "stream",
     "text": [
      "(12, 384)\n"
     ]
    },
    {
     "name": "stderr",
     "output_type": "stream",
     "text": [
      "\n"
     ]
    }
   ],
   "source": [
    "test_texts = list(test_long.all_text.values)\n",
    "all_text_vector = []\n",
    "per_gpu_batch_size = 8\n",
    "\n",
    "for mini_batch in tqdm(\n",
    "        range(0, len(test_texts[:]), per_gpu_batch_size)):\n",
    "    mini_context = test_texts[mini_batch:mini_batch\n",
    "                                           + per_gpu_batch_size]\n",
    "    encoded_input = prepare_inputs(mini_context,tokenizer,device)\n",
    "    sentence_embeddings = model(\n",
    "        **encoded_input)[0][:, 0]\n",
    "    sentence_embeddings = torch.nn.functional.normalize(sentence_embeddings, p=2, dim=1)\n",
    "    \n",
    "    all_text_vector.append(sentence_embeddings.detach().cpu().numpy())\n",
    "\n",
    "all_text_vector = np.concatenate(all_text_vector, axis=0)\n",
    "print(all_text_vector.shape)"
   ]
  },
  {
   "cell_type": "markdown",
   "id": "4f92ebd7",
   "metadata": {
    "papermill": {
     "duration": 0.01097,
     "end_time": "2024-09-15T04:16:29.174397",
     "exception": false,
     "start_time": "2024-09-15T04:16:29.163427",
     "status": "completed"
    },
    "tags": []
   },
   "source": [
    "# Predict"
   ]
  },
  {
   "cell_type": "code",
   "execution_count": 13,
   "id": "ae12f1f0",
   "metadata": {
    "execution": {
     "iopub.execute_input": "2024-09-15T04:16:29.198188Z",
     "iopub.status.busy": "2024-09-15T04:16:29.197695Z",
     "iopub.status.idle": "2024-09-15T04:16:29.214414Z",
     "shell.execute_reply": "2024-09-15T04:16:29.212941Z"
    },
    "papermill": {
     "duration": 0.031937,
     "end_time": "2024-09-15T04:16:29.217701",
     "exception": false,
     "start_time": "2024-09-15T04:16:29.185764",
     "status": "completed"
    },
    "tags": []
   },
   "outputs": [],
   "source": [
    "test_cos_sim_arr = cosine_similarity(all_text_vector, all_ctx_vector)\n",
    "test_sorted_indices = np.argsort(-test_cos_sim_arr, axis=1)"
   ]
  },
  {
   "cell_type": "code",
   "execution_count": 14,
   "id": "aedebb94",
   "metadata": {
    "execution": {
     "iopub.execute_input": "2024-09-15T04:16:29.266616Z",
     "iopub.status.busy": "2024-09-15T04:16:29.266108Z",
     "iopub.status.idle": "2024-09-15T04:16:29.276988Z",
     "shell.execute_reply": "2024-09-15T04:16:29.276037Z"
    },
    "papermill": {
     "duration": 0.038308,
     "end_time": "2024-09-15T04:16:29.279923",
     "exception": false,
     "start_time": "2024-09-15T04:16:29.241615",
     "status": "completed"
    },
    "tags": []
   },
   "outputs": [
    {
     "data": {
      "text/plain": [
       "array([[1672, 1941, 2488, 1316, 1119, 2131, 2010, 2586, 1901, 1872, 2202,\n",
       "        2518, 1999,  346, 2221,  256,  871, 1929,   14,   74,  466,  659,\n",
       "         340, 1163, 1085],\n",
       "       [1672, 1941, 1316, 1119, 2488, 2010, 2131, 2586, 1872, 1901, 2202,\n",
       "        2518,  346, 1999,   14, 1929,  871, 2221,  256,   74, 1163,  659,\n",
       "         340, 1085, 1971],\n",
       "       [1672, 1941, 1316, 1119, 2488, 2131, 2010, 2586, 1872, 1901, 2202,\n",
       "        2518,  346, 1999,  256, 2221,   14,  871, 1929, 1163,   74,  659,\n",
       "         340, 1085,  466],\n",
       "       [2488, 1941, 1672, 2131, 1316, 1119, 2586, 1872,  256,  871, 2010,\n",
       "          74, 2202, 2221, 1999, 2518, 1901,  466,  373, 2532, 1929,  969,\n",
       "        1163,  659,  315],\n",
       "       [1540, 2398, 1593,  885,  363, 2078, 2307,  979,  606,   59,  848,\n",
       "        1548,   80, 1825,  633, 1131, 1469,   29,  891, 1812, 1916,  317,\n",
       "        1358, 1218, 1280],\n",
       "       [1540, 2398, 1593,  885,  363, 2078, 2307,  979,  606,   59,  848,\n",
       "        1548,   80, 1825,  633, 1131, 1812, 1469,  891,   29, 1916,  317,\n",
       "        1358, 1218, 1280],\n",
       "       [1540, 2398,  885, 1593,  363, 2078, 2307,  979,  606,   59,  848,\n",
       "        1548,   80, 1825,  633, 1131, 1469,  891,   29, 1812, 1916, 1358,\n",
       "         317, 1218,  715],\n",
       "       [1540, 1593,  885,  363, 1825,   80, 2398,  606,   59,  891,  979,\n",
       "        1469, 2307,  633,  848, 1548, 2078, 2363,   29, 2021,    6, 1358,\n",
       "         265,  102,  715],\n",
       "       [1059, 2151,  632,  397, 2303, 1982, 1797, 2319, 1349, 1923, 1623,\n",
       "         631,  365, 2165, 2243, 2551, 2439, 1098, 1731,  691, 1287,  644,\n",
       "        2555, 1258,  251],\n",
       "       [1059, 2151,  632,  397, 2303, 1982, 2319, 1797, 1349, 1623, 1923,\n",
       "         631,  365, 1731, 2165, 2551, 1098, 2439, 2243,  691, 1287,  644,\n",
       "         251,  491, 2555],\n",
       "       [1059, 2151,  632,  397, 2303, 1982, 2319, 1797, 1349, 1923, 1623,\n",
       "         631,  365, 1731, 1098, 2439, 2165, 2551, 2243,  691, 1287,  644,\n",
       "        2555,  840,  251],\n",
       "       [1059,  632,  397, 2151, 2319, 2303, 1797, 1982, 1349, 1623,  631,\n",
       "        1923,  365, 1287, 2439, 1098,  691, 2551, 2165, 2243, 1731, 1073,\n",
       "         644, 2269, 2555]])"
      ]
     },
     "execution_count": 14,
     "metadata": {},
     "output_type": "execute_result"
    }
   ],
   "source": [
    "test_sorted_indices[:, :25]"
   ]
  },
  {
   "cell_type": "markdown",
   "id": "150b515b",
   "metadata": {
    "papermill": {
     "duration": 0.023688,
     "end_time": "2024-09-15T04:16:29.330671",
     "exception": false,
     "start_time": "2024-09-15T04:16:29.306983",
     "status": "completed"
    },
    "tags": []
   },
   "source": [
    "# Make Submit File"
   ]
  },
  {
   "cell_type": "code",
   "execution_count": 15,
   "id": "5ce9952e",
   "metadata": {
    "execution": {
     "iopub.execute_input": "2024-09-15T04:16:29.361414Z",
     "iopub.status.busy": "2024-09-15T04:16:29.360704Z",
     "iopub.status.idle": "2024-09-15T04:16:29.372871Z",
     "shell.execute_reply": "2024-09-15T04:16:29.371954Z"
    },
    "papermill": {
     "duration": 0.026533,
     "end_time": "2024-09-15T04:16:29.374892",
     "exception": false,
     "start_time": "2024-09-15T04:16:29.348359",
     "status": "completed"
    },
    "tags": []
   },
   "outputs": [],
   "source": [
    "test_long[\"Answer_alphabet\"] = test_long[\"Answer\"].str.extract(r'Answer([A-Z])Text$')\n",
    "test_long[\"QuestionId_Answer\"] = test_long[\"QuestionId\"].astype(\"str\") + \"_\" + test_long[\"Answer_alphabet\"]\n",
    "test_long[\"MisconceptionId\"] = test_sorted_indices[:, :25].tolist()\n",
    "test_long[\"MisconceptionId\"] = test_long[\"MisconceptionId\"].apply(lambda x: ' '.join(map(str, x)))\n",
    "# filter correct row\n",
    "test_long = test_long[test_long[\"CorrectAnswer\"] != test_long[\"Answer_alphabet\"]]\n",
    "submission = test_long[[\"QuestionId_Answer\", \"MisconceptionId\"]].reset_index(drop=True)"
   ]
  },
  {
   "cell_type": "code",
   "execution_count": 16,
   "id": "e7ebec89",
   "metadata": {
    "execution": {
     "iopub.execute_input": "2024-09-15T04:16:29.398491Z",
     "iopub.status.busy": "2024-09-15T04:16:29.398186Z",
     "iopub.status.idle": "2024-09-15T04:16:29.407400Z",
     "shell.execute_reply": "2024-09-15T04:16:29.406490Z"
    },
    "papermill": {
     "duration": 0.023461,
     "end_time": "2024-09-15T04:16:29.409625",
     "exception": false,
     "start_time": "2024-09-15T04:16:29.386164",
     "status": "completed"
    },
    "tags": []
   },
   "outputs": [
    {
     "data": {
      "text/html": [
       "<div>\n",
       "<style scoped>\n",
       "    .dataframe tbody tr th:only-of-type {\n",
       "        vertical-align: middle;\n",
       "    }\n",
       "\n",
       "    .dataframe tbody tr th {\n",
       "        vertical-align: top;\n",
       "    }\n",
       "\n",
       "    .dataframe thead th {\n",
       "        text-align: right;\n",
       "    }\n",
       "</style>\n",
       "<table border=\"1\" class=\"dataframe\">\n",
       "  <thead>\n",
       "    <tr style=\"text-align: right;\">\n",
       "      <th></th>\n",
       "      <th>QuestionId_Answer</th>\n",
       "      <th>MisconceptionId</th>\n",
       "    </tr>\n",
       "  </thead>\n",
       "  <tbody>\n",
       "    <tr>\n",
       "      <th>0</th>\n",
       "      <td>1869_B</td>\n",
       "      <td>1672 1941 1316 1119 2488 2010 2131 2586 1872 1...</td>\n",
       "    </tr>\n",
       "    <tr>\n",
       "      <th>1</th>\n",
       "      <td>1869_C</td>\n",
       "      <td>1672 1941 1316 1119 2488 2131 2010 2586 1872 1...</td>\n",
       "    </tr>\n",
       "    <tr>\n",
       "      <th>2</th>\n",
       "      <td>1869_D</td>\n",
       "      <td>2488 1941 1672 2131 1316 1119 2586 1872 256 87...</td>\n",
       "    </tr>\n",
       "    <tr>\n",
       "      <th>3</th>\n",
       "      <td>1870_A</td>\n",
       "      <td>1540 2398 1593 885 363 2078 2307 979 606 59 84...</td>\n",
       "    </tr>\n",
       "    <tr>\n",
       "      <th>4</th>\n",
       "      <td>1870_B</td>\n",
       "      <td>1540 2398 1593 885 363 2078 2307 979 606 59 84...</td>\n",
       "    </tr>\n",
       "    <tr>\n",
       "      <th>5</th>\n",
       "      <td>1870_C</td>\n",
       "      <td>1540 2398 885 1593 363 2078 2307 979 606 59 84...</td>\n",
       "    </tr>\n",
       "    <tr>\n",
       "      <th>6</th>\n",
       "      <td>1871_A</td>\n",
       "      <td>1059 2151 632 397 2303 1982 1797 2319 1349 192...</td>\n",
       "    </tr>\n",
       "    <tr>\n",
       "      <th>7</th>\n",
       "      <td>1871_C</td>\n",
       "      <td>1059 2151 632 397 2303 1982 2319 1797 1349 192...</td>\n",
       "    </tr>\n",
       "    <tr>\n",
       "      <th>8</th>\n",
       "      <td>1871_D</td>\n",
       "      <td>1059 632 397 2151 2319 2303 1797 1982 1349 162...</td>\n",
       "    </tr>\n",
       "  </tbody>\n",
       "</table>\n",
       "</div>"
      ],
      "text/plain": [
       "  QuestionId_Answer                                    MisconceptionId\n",
       "0            1869_B  1672 1941 1316 1119 2488 2010 2131 2586 1872 1...\n",
       "1            1869_C  1672 1941 1316 1119 2488 2131 2010 2586 1872 1...\n",
       "2            1869_D  2488 1941 1672 2131 1316 1119 2586 1872 256 87...\n",
       "3            1870_A  1540 2398 1593 885 363 2078 2307 979 606 59 84...\n",
       "4            1870_B  1540 2398 1593 885 363 2078 2307 979 606 59 84...\n",
       "5            1870_C  1540 2398 885 1593 363 2078 2307 979 606 59 84...\n",
       "6            1871_A  1059 2151 632 397 2303 1982 1797 2319 1349 192...\n",
       "7            1871_C  1059 2151 632 397 2303 1982 2319 1797 1349 192...\n",
       "8            1871_D  1059 632 397 2151 2319 2303 1797 1982 1349 162..."
      ]
     },
     "execution_count": 16,
     "metadata": {},
     "output_type": "execute_result"
    }
   ],
   "source": [
    "submission.head(10)"
   ]
  },
  {
   "cell_type": "code",
   "execution_count": 17,
   "id": "c8ba0f0e",
   "metadata": {
    "execution": {
     "iopub.execute_input": "2024-09-15T04:16:29.433692Z",
     "iopub.status.busy": "2024-09-15T04:16:29.433398Z",
     "iopub.status.idle": "2024-09-15T04:16:29.441921Z",
     "shell.execute_reply": "2024-09-15T04:16:29.441051Z"
    },
    "papermill": {
     "duration": 0.022857,
     "end_time": "2024-09-15T04:16:29.443966",
     "exception": false,
     "start_time": "2024-09-15T04:16:29.421109",
     "status": "completed"
    },
    "tags": []
   },
   "outputs": [
    {
     "data": {
      "text/html": [
       "<div>\n",
       "<style scoped>\n",
       "    .dataframe tbody tr th:only-of-type {\n",
       "        vertical-align: middle;\n",
       "    }\n",
       "\n",
       "    .dataframe tbody tr th {\n",
       "        vertical-align: top;\n",
       "    }\n",
       "\n",
       "    .dataframe thead th {\n",
       "        text-align: right;\n",
       "    }\n",
       "</style>\n",
       "<table border=\"1\" class=\"dataframe\">\n",
       "  <thead>\n",
       "    <tr style=\"text-align: right;\">\n",
       "      <th></th>\n",
       "      <th>QuestionId_Answer</th>\n",
       "      <th>MisconceptionId</th>\n",
       "    </tr>\n",
       "  </thead>\n",
       "  <tbody>\n",
       "    <tr>\n",
       "      <th>0</th>\n",
       "      <td>1869_A</td>\n",
       "      <td>1 2 3 4 5 6 7 8 9 10 11 12 13 14 15 16 17 18 1...</td>\n",
       "    </tr>\n",
       "    <tr>\n",
       "      <th>1</th>\n",
       "      <td>1869_B</td>\n",
       "      <td>1 2 3 4 5 6 7 8 9 10 11 12 13 14 15 16 17 18 1...</td>\n",
       "    </tr>\n",
       "    <tr>\n",
       "      <th>2</th>\n",
       "      <td>1869_C</td>\n",
       "      <td>1 2 3 4 5 6 7 8 9 10 11 12 13 14 15 16 17 18 1...</td>\n",
       "    </tr>\n",
       "    <tr>\n",
       "      <th>3</th>\n",
       "      <td>1870_B</td>\n",
       "      <td>1 2 3 4 5 6 7 8 9 10 11 12 13 14 15 16 17 18 1...</td>\n",
       "    </tr>\n",
       "    <tr>\n",
       "      <th>4</th>\n",
       "      <td>1870_C</td>\n",
       "      <td>1 2 3 4 5 6 7 8 9 10 11 12 13 14 15 16 17 18 1...</td>\n",
       "    </tr>\n",
       "    <tr>\n",
       "      <th>5</th>\n",
       "      <td>1870_D</td>\n",
       "      <td>1 2 3 4 5 6 7 8 9 10 11 12 13 14 15 16 17 18 1...</td>\n",
       "    </tr>\n",
       "    <tr>\n",
       "      <th>6</th>\n",
       "      <td>1871_A</td>\n",
       "      <td>1 2 3 4 5 6 7 8 9 10 11 12 13 14 15 16 17 18 1...</td>\n",
       "    </tr>\n",
       "    <tr>\n",
       "      <th>7</th>\n",
       "      <td>1871_C</td>\n",
       "      <td>1 2 3 4 5 6 7 8 9 10 11 12 13 14 15 16 17 18 1...</td>\n",
       "    </tr>\n",
       "    <tr>\n",
       "      <th>8</th>\n",
       "      <td>1871_D</td>\n",
       "      <td>1 2 3 4 5 6 7 8 9 10 11 12 13 14 15 16 17 18 1...</td>\n",
       "    </tr>\n",
       "  </tbody>\n",
       "</table>\n",
       "</div>"
      ],
      "text/plain": [
       "  QuestionId_Answer                                    MisconceptionId\n",
       "0            1869_A  1 2 3 4 5 6 7 8 9 10 11 12 13 14 15 16 17 18 1...\n",
       "1            1869_B  1 2 3 4 5 6 7 8 9 10 11 12 13 14 15 16 17 18 1...\n",
       "2            1869_C  1 2 3 4 5 6 7 8 9 10 11 12 13 14 15 16 17 18 1...\n",
       "3            1870_B  1 2 3 4 5 6 7 8 9 10 11 12 13 14 15 16 17 18 1...\n",
       "4            1870_C  1 2 3 4 5 6 7 8 9 10 11 12 13 14 15 16 17 18 1...\n",
       "5            1870_D  1 2 3 4 5 6 7 8 9 10 11 12 13 14 15 16 17 18 1...\n",
       "6            1871_A  1 2 3 4 5 6 7 8 9 10 11 12 13 14 15 16 17 18 1...\n",
       "7            1871_C  1 2 3 4 5 6 7 8 9 10 11 12 13 14 15 16 17 18 1...\n",
       "8            1871_D  1 2 3 4 5 6 7 8 9 10 11 12 13 14 15 16 17 18 1..."
      ]
     },
     "execution_count": 17,
     "metadata": {},
     "output_type": "execute_result"
    }
   ],
   "source": [
    "sample_submission.head(10)"
   ]
  },
  {
   "cell_type": "code",
   "execution_count": 18,
   "id": "28e64e99",
   "metadata": {
    "execution": {
     "iopub.execute_input": "2024-09-15T04:16:29.469289Z",
     "iopub.status.busy": "2024-09-15T04:16:29.468986Z",
     "iopub.status.idle": "2024-09-15T04:16:29.475496Z",
     "shell.execute_reply": "2024-09-15T04:16:29.474786Z"
    },
    "papermill": {
     "duration": 0.020817,
     "end_time": "2024-09-15T04:16:29.477365",
     "exception": false,
     "start_time": "2024-09-15T04:16:29.456548",
     "status": "completed"
    },
    "tags": []
   },
   "outputs": [],
   "source": [
    "submission.to_csv(\"submission.csv\", index=False)"
   ]
  },
  {
   "cell_type": "code",
   "execution_count": null,
   "id": "e8fa52b0",
   "metadata": {
    "papermill": {
     "duration": 0.011539,
     "end_time": "2024-09-15T04:16:29.500808",
     "exception": false,
     "start_time": "2024-09-15T04:16:29.489269",
     "status": "completed"
    },
    "tags": []
   },
   "outputs": [],
   "source": []
  }
 ],
 "metadata": {
  "kaggle": {
   "accelerator": "nvidiaTeslaT4",
   "dataSources": [
    {
     "databundleVersionId": 9551816,
     "sourceId": 82695,
     "sourceType": "competition"
    },
    {
     "modelId": 33601,
     "modelInstanceId": 23286,
     "sourceId": 27644,
     "sourceType": "modelInstanceVersion"
    }
   ],
   "dockerImageVersionId": 30762,
   "isGpuEnabled": true,
   "isInternetEnabled": false,
   "language": "python",
   "sourceType": "notebook"
  },
  "kernelspec": {
   "display_name": "venv",
   "language": "python",
   "name": "python3"
  },
  "language_info": {
   "codemirror_mode": {
    "name": "ipython",
    "version": 3
   },
   "file_extension": ".py",
   "mimetype": "text/x-python",
   "name": "python",
   "nbconvert_exporter": "python",
   "pygments_lexer": "ipython3",
   "version": "3.10.11"
  },
  "papermill": {
   "default_parameters": {},
   "duration": 20.69522,
   "end_time": "2024-09-15T04:16:31.914844",
   "environment_variables": {},
   "exception": null,
   "input_path": "__notebook__.ipynb",
   "output_path": "__notebook__.ipynb",
   "parameters": {},
   "start_time": "2024-09-15T04:16:11.219624",
   "version": "2.6.0"
  }
 },
 "nbformat": 4,
 "nbformat_minor": 5
}
