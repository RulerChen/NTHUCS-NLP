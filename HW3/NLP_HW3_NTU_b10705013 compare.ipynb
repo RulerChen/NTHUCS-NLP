{
 "cells": [
  {
   "cell_type": "code",
   "execution_count": 1,
   "metadata": {},
   "outputs": [],
   "source": [
    "import transformers\n",
    "import torch\n",
    "from datasets import load_dataset\n",
    "from torch.utils.data import Dataset, DataLoader\n",
    "from torch.optim import AdamW\n",
    "from tqdm import tqdm\n",
    "from torchmetrics import SpearmanCorrCoef, Accuracy, F1Score"
   ]
  },
  {
   "cell_type": "code",
   "execution_count": 2,
   "metadata": {},
   "outputs": [],
   "source": [
    "# 有些中文的標點符號在tokenizer編碼以後會變成[UNK]，所以將其換成英文標點\n",
    "\n",
    "token_replacement = [\n",
    "    [\"：\" , \":\"],\n",
    "    [\"，\" , \",\"],\n",
    "    [\"“\" , \"\\\"\"],\n",
    "    [\"”\" , \"\\\"\"],\n",
    "    [\"？\" , \"?\"],\n",
    "    [\"……\" , \"...\"],\n",
    "    [\"！\" , \"!\"]\n",
    "]"
   ]
  },
  {
   "cell_type": "code",
   "execution_count": 3,
   "metadata": {},
   "outputs": [
    {
     "name": "stdout",
     "output_type": "stream",
     "text": [
      "Dataset example: \n",
      "{'sentence_pair_id': 1, 'premise': 'A group of kids is playing in a yard and an old man is standing in the background', 'hypothesis': 'A group of boys in a yard is playing and a man is standing in the background', 'relatedness_score': 4.5, 'entailment_judgment': 0} \n",
      "{'sentence_pair_id': 2, 'premise': 'A group of children is playing in the house and there is no man standing in the background', 'hypothesis': 'A group of kids is playing in a yard and an old man is standing in the background', 'relatedness_score': 3.200000047683716, 'entailment_judgment': 0} \n",
      "{'sentence_pair_id': 3, 'premise': 'The young boys are playing outdoors and the man is smiling nearby', 'hypothesis': 'The kids are playing outdoors near a man with a smile', 'relatedness_score': 4.699999809265137, 'entailment_judgment': 1}\n",
      "Train dataset size: 4500\n",
      "Validation dataset size: 500\n",
      "Test dataset size: 4927\n"
     ]
    }
   ],
   "source": [
    "class SemevalDataset(Dataset):\n",
    "    def __init__(self, split=\"train\") -> None:\n",
    "        super().__init__()\n",
    "        assert split in [\"train\", \"validation\", \"test\"]\n",
    "        self.data = load_dataset(\n",
    "            \"sem_eval_2014_task_1\", split=split, cache_dir=\"./cache/\", trust_remote_code=True\n",
    "        ).to_list()\n",
    "\n",
    "    def __getitem__(self, index):\n",
    "        d = self.data[index]\n",
    "        for k in [\"premise\", \"hypothesis\"]:\n",
    "            for tok in token_replacement:\n",
    "                d[k] = d[k].replace(tok[0], tok[1])\n",
    "        return d\n",
    "\n",
    "    def __len__(self):\n",
    "        return len(self.data)\n",
    "\n",
    "data_sample = SemevalDataset(split=\"train\").data[:3]\n",
    "print(f\"Dataset example: \\n{data_sample[0]} \\n{data_sample[1]} \\n{data_sample[2]}\")\n",
    "\n",
    "train_dataset = SemevalDataset(split=\"train\").data\n",
    "validation_dataset = SemevalDataset(split=\"validation\").data\n",
    "test_dataset = SemevalDataset(split=\"test\").data\n",
    "\n",
    "print(f\"Train dataset size: {len(train_dataset)}\")\n",
    "print(f\"Validation dataset size: {len(validation_dataset)}\")\n",
    "print(f\"Test dataset size: {len(test_dataset)}\")"
   ]
  },
  {
   "cell_type": "code",
   "execution_count": 4,
   "metadata": {},
   "outputs": [
    {
     "name": "stdout",
     "output_type": "stream",
     "text": [
      "Device: cuda\n"
     ]
    }
   ],
   "source": [
    "# Define the hyperparameters\n",
    "lr = 3e-5\n",
    "epochs = 3\n",
    "train_batch_size = 16\n",
    "validation_batch_size = 16\n",
    "pretrain_model = 'microsoft/deberta-v3-base'\n",
    "alpha = 0.75\n",
    "beta = 0.25\n",
    "\n",
    "device = torch.device(\"cuda\" if torch.cuda.is_available() else \"cpu\")\n",
    "print(f\"Device: {device}\")"
   ]
  },
  {
   "cell_type": "code",
   "execution_count": 5,
   "metadata": {},
   "outputs": [],
   "source": [
    "tokenizer = transformers.DebertaV2Tokenizer.from_pretrained(pretrain_model, cache_dir='./cache/')"
   ]
  },
  {
   "cell_type": "code",
   "execution_count": 6,
   "metadata": {},
   "outputs": [],
   "source": [
    "# TODO1: Create batched data for DataLoader\n",
    "# `collate_fn` is a function that defines how the data batch should be packed.\n",
    "# This function will be called in the DataLoader to pack the data batch.\n",
    "\n",
    "def collate_fn(batch):\n",
    "    premises = [item['premise'] for item in batch]\n",
    "    hypotheses = [item['hypothesis'] for item in batch]\n",
    "    relatedness_scores = [item['relatedness_score'] for item in batch]\n",
    "    entailment_judgments = [item['entailment_judgment'] for item in batch]\n",
    "\n",
    "    # Tokenize premises and hypotheses, padding to max length within batch\n",
    "    tokenized_data = tokenizer(\n",
    "        premises, \n",
    "        hypotheses, \n",
    "        padding=True, \n",
    "        truncation=True, \n",
    "        return_tensors=\"pt\"\n",
    "    )\n",
    "\n",
    "    # Convert relatedness_scores and entailment_judgments to tensors\n",
    "    labels_relatedness = torch.tensor(relatedness_scores, dtype=torch.float32)\n",
    "    labels_entailment = torch.tensor(entailment_judgments, dtype=torch.long)\n",
    "\n",
    "    # Return tokenized data and labels\n",
    "    return {\n",
    "        \"input_ids\": tokenized_data[\"input_ids\"],\n",
    "        \"attention_mask\": tokenized_data[\"attention_mask\"],\n",
    "        \"relatedness_score\": labels_relatedness,\n",
    "        \"entailment_judgment\": labels_entailment\n",
    "    }\n",
    "\n",
    "\n",
    "# TODO1-2: Define your DataLoader\n",
    "dl_train = DataLoader(\n",
    "    SemevalDataset(split=\"train\"),\n",
    "    batch_size=train_batch_size,\n",
    "    shuffle=True,\n",
    "    collate_fn=collate_fn,\n",
    ")\n",
    "dl_validation = DataLoader(\n",
    "    SemevalDataset(split=\"validation\"),\n",
    "    batch_size=validation_batch_size,\n",
    "    shuffle=False,\n",
    "    collate_fn=collate_fn,\n",
    ")\n",
    "dl_test = DataLoader(\n",
    "    SemevalDataset(split=\"test\"),\n",
    "    batch_size=validation_batch_size,\n",
    "    shuffle=False,\n",
    "    collate_fn=collate_fn,\n",
    ")"
   ]
  },
  {
   "cell_type": "code",
   "execution_count": 7,
   "metadata": {},
   "outputs": [],
   "source": [
    "# TODO2: Construct your model\n",
    "class Model1(torch.nn.Module):\n",
    "    def __init__(self, *args, **kwargs):\n",
    "        super().__init__(*args, **kwargs)\n",
    "        # Write your code here\n",
    "        # Define what modules you will use in the model\n",
    "        self.encoder = transformers.AutoModel.from_pretrained(pretrain_model, cache_dir=\"./cache/\")\n",
    "        self.regression_head = torch.nn.Linear(self.encoder.config.hidden_size, 1)\n",
    "    def forward(self, **kwargs):\n",
    "        # Write your code here\n",
    "        # Forward pass\n",
    "\n",
    "        output = self.encoder(**kwargs)\n",
    "        \n",
    "        last_hidden_state = output.last_hidden_state  # 可以使用 last_hidden_state 或 pooler_output\n",
    "        pooled_output = last_hidden_state[:, 0]  # 使用 [CLS] token 作為 pooled_output\n",
    "        \n",
    "        regression_logits = self.regression_head(pooled_output)\n",
    "\n",
    "        return regression_logits\n",
    "    \n",
    "class Model2(torch.nn.Module):\n",
    "    def __init__(self, *args, **kwargs):\n",
    "        super().__init__(*args, **kwargs)\n",
    "        # Write your code here\n",
    "        # Define what modules you will use in the model\n",
    "        self.encoder = transformers.AutoModel.from_pretrained(pretrain_model, cache_dir=\"./cache/\")\n",
    "        self.classification_head = torch.nn.Linear(self.encoder.config.hidden_size, 3)\n",
    "    def forward(self, **kwargs):\n",
    "        # Write your code here\n",
    "        # Forward pass\n",
    "\n",
    "        output = self.encoder(**kwargs)\n",
    "        \n",
    "        last_hidden_state = output.last_hidden_state  # 可以使用 last_hidden_state 或 pooler_output\n",
    "        pooled_output = last_hidden_state[:, 0]  # 使用 [CLS] token 作為 pooled_output\n",
    "        \n",
    "        classification_logits = self.classification_head(pooled_output)\n",
    "\n",
    "        return classification_logits"
   ]
  },
  {
   "cell_type": "code",
   "execution_count": 8,
   "metadata": {},
   "outputs": [],
   "source": [
    "model1 = Model1().to(device)\n",
    "model2 = Model2().to(device)"
   ]
  },
  {
   "cell_type": "code",
   "execution_count": 9,
   "metadata": {},
   "outputs": [
    {
     "name": "stderr",
     "output_type": "stream",
     "text": [
      "c:\\Users\\RulerChen\\VScode\\nthu nlp\\HW3\\venv\\lib\\site-packages\\torchmetrics\\utilities\\prints.py:43: UserWarning: Metric `SpearmanCorrcoef` will save all targets and predictions in the buffer. For large datasets, this may lead to large memory footprint.\n",
      "  warnings.warn(*args, **kwargs)  # noqa: B028\n"
     ]
    }
   ],
   "source": [
    "# TODO3: Define your optimizer and loss function\n",
    "\n",
    "# TODO3-1: Define your Optimizer\n",
    "optimizer1 = AdamW(model1.parameters(), lr=lr, weight_decay=0.01)\n",
    "optimizer2 = AdamW(model2.parameters(), lr=lr, weight_decay=0.01)\n",
    "\n",
    "\n",
    "# TODO3-2: Define your loss functions (you should have two)\n",
    "# Write your code here\n",
    "mse_loss = torch.nn.MSELoss()\n",
    "cross_entropy_loss = torch.nn.CrossEntropyLoss()\n",
    "\n",
    "# scoring functions\n",
    "spc = SpearmanCorrCoef().to(device)\n",
    "acc = Accuracy(task=\"multiclass\", num_classes=3).to(device)\n",
    "f1 = F1Score(task=\"multiclass\", num_classes=3, average='macro').to(device)"
   ]
  },
  {
   "cell_type": "code",
   "execution_count": 10,
   "metadata": {},
   "outputs": [
    {
     "name": "stderr",
     "output_type": "stream",
     "text": [
      "Training epoch [1/3]:   0%|          | 0/282 [00:00<?, ?it/s]Asking to truncate to max_length but no maximum length is provided and the model has no predefined maximum length. Default to no truncation.\n",
      "Training epoch [1/3]: 100%|██████████| 282/282 [00:28<00:00,  9.81it/s]\n",
      "Validation epoch [1/3]: 100%|██████████| 32/32 [00:00<00:00, 52.20it/s]\n"
     ]
    },
    {
     "name": "stdout",
     "output_type": "stream",
     "text": [
      "Epoch 1\n",
      "Validation Loss:     0.3362080752849579\n",
      "Spearman:            0.8637570738792419\n",
      "\n"
     ]
    },
    {
     "name": "stderr",
     "output_type": "stream",
     "text": [
      "Training epoch [2/3]: 100%|██████████| 282/282 [00:27<00:00, 10.16it/s]\n",
      "Validation epoch [2/3]: 100%|██████████| 32/32 [00:00<00:00, 50.29it/s]\n"
     ]
    },
    {
     "name": "stdout",
     "output_type": "stream",
     "text": [
      "Epoch 2\n",
      "Validation Loss:     0.3065238296985626\n",
      "Spearman:            0.8817991018295288\n",
      "\n"
     ]
    },
    {
     "name": "stderr",
     "output_type": "stream",
     "text": [
      "Training epoch [3/3]: 100%|██████████| 282/282 [00:27<00:00, 10.12it/s]\n",
      "Validation epoch [3/3]: 100%|██████████| 32/32 [00:00<00:00, 51.74it/s]"
     ]
    },
    {
     "name": "stdout",
     "output_type": "stream",
     "text": [
      "Epoch 3\n",
      "Validation Loss:     0.22525528073310852\n",
      "Spearman:            0.8875921964645386\n",
      "\n"
     ]
    },
    {
     "name": "stderr",
     "output_type": "stream",
     "text": [
      "\n"
     ]
    }
   ],
   "source": [
    "for ep in range(epochs):\n",
    "    pbar = tqdm(dl_train)\n",
    "    pbar.set_description(f\"Training epoch [{ep+1}/{epochs}]\")\n",
    "    model1.train()\n",
    "\n",
    "    total_loss = 0\n",
    "    for batch in pbar:\n",
    "        input_ids = batch['input_ids'].to(device)\n",
    "        attention_mask = batch['attention_mask'].to(device)\n",
    "        # token_type_ids = batch['token_type_ids'].to(device)\n",
    "        relatedness_score = batch['relatedness_score'].to(device)\n",
    "\n",
    "        # Forward pass\n",
    "        pred_relatedness_score= model1(\n",
    "            input_ids=input_ids, \n",
    "            attention_mask=attention_mask,\n",
    "        )\n",
    "\n",
    "        # Compute loss\n",
    "        loss_relatedness = mse_loss(pred_relatedness_score.squeeze(), relatedness_score)\n",
    "        loss = loss_relatedness\n",
    "\n",
    "        optimizer1.zero_grad()\n",
    "        loss.backward()\n",
    "        optimizer1.step()\n",
    "\n",
    "        total_loss += loss.item()\n",
    "\n",
    "    pbar = tqdm(dl_validation)\n",
    "    pbar.set_description(f\"Validation epoch [{ep+1}/{epochs}]\")\n",
    "    model1.eval()\n",
    "\n",
    "    val_loss = 0\n",
    "    with torch.no_grad():\n",
    "        for batch in pbar:\n",
    "            input_ids = batch['input_ids'].to(device)\n",
    "            attention_mask = batch['attention_mask'].to(device)\n",
    "            relatedness_score = batch['relatedness_score'].to(device)\n",
    "\n",
    "            pred_relatedness_score = model1(\n",
    "                input_ids=input_ids, \n",
    "                attention_mask=attention_mask,\n",
    "            )\n",
    "\n",
    "            # Validation loss calculation\n",
    "            val_loss_relatedness = mse_loss(pred_relatedness_score.squeeze(), relatedness_score)\n",
    "            val_loss += val_loss_relatedness\n",
    "            # Metrics calculation\n",
    "            spc.update(pred_relatedness_score.squeeze(), relatedness_score)\n",
    "\n",
    "            \n",
    "\n",
    "    print(f\"Epoch {ep+1}\")\n",
    "    print(f\"Validation Loss:     {val_loss / len(dl_validation)}\")\n",
    "    print(f\"Spearman:            {spc.compute()}\")\n",
    "    print(\"\")\n",
    "\n",
    "    spc.reset()"
   ]
  },
  {
   "cell_type": "code",
   "execution_count": 11,
   "metadata": {},
   "outputs": [
    {
     "name": "stderr",
     "output_type": "stream",
     "text": [
      "Training epoch [1/3]: 100%|██████████| 282/282 [00:28<00:00,  9.83it/s]\n",
      "Validation epoch [1/3]: 100%|██████████| 32/32 [00:00<00:00, 45.78it/s]\n"
     ]
    },
    {
     "name": "stdout",
     "output_type": "stream",
     "text": [
      "Epoch 1\n",
      "Validation Loss:     0.23854047060012817\n",
      "Accuracy:            0.9020000100135803\n",
      "F1 Score:            0.8973813056945801\n",
      "\n"
     ]
    },
    {
     "name": "stderr",
     "output_type": "stream",
     "text": [
      "Training epoch [2/3]: 100%|██████████| 282/282 [00:27<00:00, 10.21it/s]\n",
      "Validation epoch [2/3]: 100%|██████████| 32/32 [00:00<00:00, 46.86it/s]\n"
     ]
    },
    {
     "name": "stdout",
     "output_type": "stream",
     "text": [
      "Epoch 2\n",
      "Validation Loss:     0.3705654442310333\n",
      "Accuracy:            0.8880000114440918\n",
      "F1 Score:            0.8845459222793579\n",
      "\n"
     ]
    },
    {
     "name": "stderr",
     "output_type": "stream",
     "text": [
      "Training epoch [3/3]: 100%|██████████| 282/282 [00:28<00:00,  9.88it/s]\n",
      "Validation epoch [3/3]: 100%|██████████| 32/32 [00:00<00:00, 44.42it/s]"
     ]
    },
    {
     "name": "stdout",
     "output_type": "stream",
     "text": [
      "Epoch 3\n",
      "Validation Loss:     0.3379969298839569\n",
      "Accuracy:            0.8960000276565552\n",
      "F1 Score:            0.8890994191169739\n",
      "\n"
     ]
    },
    {
     "name": "stderr",
     "output_type": "stream",
     "text": [
      "\n"
     ]
    }
   ],
   "source": [
    "for ep in range(epochs):\n",
    "    pbar = tqdm(dl_train)\n",
    "    pbar.set_description(f\"Training epoch [{ep+1}/{epochs}]\")\n",
    "    model2.train()\n",
    "\n",
    "    total_loss = 0\n",
    "    for batch in pbar:\n",
    "        input_ids = batch['input_ids'].to(device)\n",
    "        attention_mask = batch['attention_mask'].to(device)\n",
    "        entailment_judgment = batch['entailment_judgment'].to(device)\n",
    "\n",
    "        # Forward pass\n",
    "        pred_entailment_judgment = model2(\n",
    "            input_ids=input_ids, \n",
    "            attention_mask=attention_mask,\n",
    "        )\n",
    "\n",
    "        # Compute loss\n",
    "        loss_entailment = cross_entropy_loss(pred_entailment_judgment, entailment_judgment)\n",
    "        loss = loss_entailment\n",
    "\n",
    "\n",
    "        # Backward and optimize\n",
    "        optimizer2.zero_grad()\n",
    "        loss.backward()\n",
    "        optimizer2.step()\n",
    "\n",
    "        total_loss += loss.item()\n",
    "\n",
    "    pbar = tqdm(dl_validation)\n",
    "    pbar.set_description(f\"Validation epoch [{ep+1}/{epochs}]\")\n",
    "    model2.eval()\n",
    "    # TODO5: Write the evaluation loop\n",
    "    # Write your code here\n",
    "    # Evaluate your model\n",
    "    # Output all the evaluation scores (SpearmanCorrCoef, Accuracy, F1Score)\n",
    "\n",
    "    val_loss = 0\n",
    "    with torch.no_grad():\n",
    "        for batch in pbar:\n",
    "            input_ids = batch['input_ids'].to(device)\n",
    "            attention_mask = batch['attention_mask'].to(device)\n",
    "            entailment_judgment = batch['entailment_judgment'].to(device)\n",
    "\n",
    "            pred_entailment_judgment = model2(\n",
    "                input_ids=input_ids, \n",
    "                attention_mask=attention_mask,\n",
    "            )\n",
    "\n",
    "            # Validation loss calculation\n",
    "            val_loss_entailment = cross_entropy_loss(pred_entailment_judgment, entailment_judgment)\n",
    "            val_loss += val_loss_entailment\n",
    "\n",
    "            # Metrics calculation\n",
    "            acc.update(pred_entailment_judgment, entailment_judgment)\n",
    "            f1.update(pred_entailment_judgment, entailment_judgment)\n",
    "\n",
    "            \n",
    "\n",
    "    print(f\"Epoch {ep+1}\")\n",
    "    print(f\"Validation Loss:     {val_loss / len(dl_validation)}\")\n",
    "    print(f\"Accuracy:            {acc.compute()}\")\n",
    "    print(f\"F1 Score:            {f1.compute()}\")\n",
    "    print(\"\")\n",
    "    # torch.save(model, f'./models/ep{ep}.ckpt')\n",
    "\n",
    "    acc.reset()\n",
    "    f1.reset()  "
   ]
  },
  {
   "cell_type": "code",
   "execution_count": 12,
   "metadata": {},
   "outputs": [
    {
     "name": "stderr",
     "output_type": "stream",
     "text": [
      "100%|██████████| 308/308 [00:06<00:00, 46.59it/s]\n"
     ]
    },
    {
     "name": "stdout",
     "output_type": "stream",
     "text": [
      "Spearman: 0.8823131322860718\n",
      "\n"
     ]
    }
   ],
   "source": [
    "pbar = tqdm(dl_test)\n",
    "model1.eval()\n",
    "\n",
    "with torch.no_grad():\n",
    "    for batch in pbar:\n",
    "        input_ids = batch['input_ids'].to(device)\n",
    "        attention_mask = batch['attention_mask'].to(device)\n",
    "        relatedness_score = batch['relatedness_score'].to(device)\n",
    "\n",
    "\n",
    "        pred_relatedness_score = model1(\n",
    "            input_ids=input_ids, \n",
    "            attention_mask=attention_mask,\n",
    "        )\n",
    "\n",
    "        # Metrics calculation\n",
    "        spc.update(pred_relatedness_score.squeeze(), relatedness_score)\n",
    "\n",
    "print(f\"Spearman: {spc.compute()}\")\n",
    "print(\"\")\n",
    "\n",
    "spc.reset()"
   ]
  },
  {
   "cell_type": "code",
   "execution_count": 13,
   "metadata": {},
   "outputs": [
    {
     "name": "stderr",
     "output_type": "stream",
     "text": [
      "100%|██████████| 308/308 [00:06<00:00, 50.32it/s]"
     ]
    },
    {
     "name": "stdout",
     "output_type": "stream",
     "text": [
      "Accuracy: 0.9163791537284851\n",
      "F1 Score: 0.9058225154876709\n",
      "\n"
     ]
    },
    {
     "name": "stderr",
     "output_type": "stream",
     "text": [
      "\n"
     ]
    }
   ],
   "source": [
    "pbar = tqdm(dl_test)\n",
    "model2.eval()\n",
    "\n",
    "with torch.no_grad():\n",
    "    for batch in pbar:\n",
    "        input_ids = batch['input_ids'].to(device)\n",
    "        attention_mask = batch['attention_mask'].to(device)\n",
    "        entailment_judgment = batch['entailment_judgment'].to(device)\n",
    "\n",
    "        pred_entailment_judgment = model2(\n",
    "            input_ids=input_ids, \n",
    "            attention_mask=attention_mask,\n",
    "        )\n",
    "\n",
    "        # Metrics calculation\n",
    "        acc.update(pred_entailment_judgment, entailment_judgment)\n",
    "        f1.update(pred_entailment_judgment, entailment_judgment)\n",
    "\n",
    "\n",
    "print(f\"Accuracy: {acc.compute()}\")\n",
    "print(f\"F1 Score: {f1.compute()}\")\n",
    "print(\"\")\n",
    "\n",
    "acc.reset()\n",
    "f1.reset()"
   ]
  }
 ],
 "metadata": {
  "kernelspec": {
   "display_name": "py31014",
   "language": "python",
   "name": "python3"
  },
  "language_info": {
   "codemirror_mode": {
    "name": "ipython",
    "version": 3
   },
   "file_extension": ".py",
   "mimetype": "text/x-python",
   "name": "python",
   "nbconvert_exporter": "python",
   "pygments_lexer": "ipython3",
   "version": "3.8.10"
  }
 },
 "nbformat": 4,
 "nbformat_minor": 2
}
